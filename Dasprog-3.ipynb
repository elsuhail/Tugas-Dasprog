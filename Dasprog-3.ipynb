{
 "cells": [
  {
   "cell_type": "markdown",
   "id": "69073962",
   "metadata": {},
   "source": [
    "Framing The G"
   ]
  },
  {
   "cell_type": "code",
   "execution_count": 1,
   "id": "607900d9",
   "metadata": {},
   "outputs": [
    {
     "name": "stdout",
     "output_type": "stream",
     "text": [
      "********\n",
      "********\n",
      "**    **\n",
      "**    **\n",
      "**    **\n",
      "**    **\n",
      "********\n",
      "********\n"
     ]
    }
   ],
   "source": [
    "N, M = map(int, input().split())\n",
    "\n",
    "for i in range(N):\n",
    "  for j in range(N):\n",
    "    if i < M or i >= N-M or j < M or j >= N-M : #isi batas kiri kanan atas bawah\n",
    "      print(\"*\", end=\"\")\n",
    "    else :\n",
    "      print(\" \", end=\"\")\n",
    "  print()"
   ]
  },
  {
   "cell_type": "markdown",
   "id": "da37729b",
   "metadata": {},
   "source": [
    "Matching A Shoes"
   ]
  },
  {
   "cell_type": "code",
   "execution_count": null,
   "id": "1669e0ec",
   "metadata": {},
   "outputs": [],
   "source": [
    "N = int(input())\n",
    "sepatu = {}\n",
    "\n",
    "for i in range(N) :\n",
    "  id_sepatu = input().strip()\n",
    "\n",
    "  ukuran_sepatu = \"\"\n",
    "  bagian_sepatu = \"\"\n",
    "\n",
    "  for char in id_sepatu:\n",
    "    if char.isdigit() :\n",
    "      ukuran_sepatu += char\n",
    "    if char in \"LR\" :\n",
    "      bagian_sepatu = char\n",
    "\n",
    "  ukur_sepatu = int(ukuran_sepatu)\n",
    "\n",
    "  if ukur_sepatu not in sepatu :\n",
    "    sepatu[ukur_sepatu] = {\"L\" : 0, \"R\" : 0 }\n",
    "\n",
    "  sepatu[ukur_sepatu][bagian_sepatu] += 1\n",
    "\n",
    "pasangan = 0\n",
    "\n",
    "for ukur_sepatu in sepatu :\n",
    "  pasangan += min(sepatu[ukur_sepatu][\"L\"], sepatu[ukur_sepatu][\"R\"])\n",
    "\n",
    "print(pasangan)"
   ]
  },
  {
   "cell_type": "markdown",
   "id": "78298e0a",
   "metadata": {},
   "source": [
    "Tama's Problem #1"
   ]
  },
  {
   "cell_type": "code",
   "execution_count": null,
   "id": "c618ca71",
   "metadata": {},
   "outputs": [],
   "source": [
    "days = int(input())\n",
    "alphabet = \"abcdefghijklmnopqrstuvwxyz\"\n",
    "\n",
    "for i in range(days):\n",
    "  secret_number = int(input())\n",
    "  kata = input()\n",
    "  hasil = \"\"\n",
    "\n",
    "  for char in kata :\n",
    "    if char == \" \":\n",
    "      hasil += \" \"\n",
    "    elif char.isupper():\n",
    "      huruf = alphabet.index(char.lower())\n",
    "      geser = ((huruf + secret_number) % 26)\n",
    "      hasil += alphabet[geser].upper()\n",
    "    elif char.islower():\n",
    "      huruf = alphabet.index(char)\n",
    "      geser = ((huruf + secret_number) % 26)\n",
    "      hasil += alphabet[geser]\n",
    "  print(hasil)"
   ]
  },
  {
   "cell_type": "markdown",
   "id": "883262df",
   "metadata": {},
   "source": [
    "Nomer 1"
   ]
  },
  {
   "cell_type": "code",
   "execution_count": null,
   "id": "d50874a3",
   "metadata": {},
   "outputs": [],
   "source": [
    "N = int(input())\n",
    "kata = input()\n",
    "\n",
    "\n",
    "for i in range(N) :\n",
    "  kata = kata[1:] + kata[0]\n",
    "print(kata)"
   ]
  },
  {
   "cell_type": "markdown",
   "id": "275a770a",
   "metadata": {},
   "source": [
    "Nomer 5"
   ]
  },
  {
   "cell_type": "code",
   "execution_count": null,
   "id": "c2de7c55",
   "metadata": {},
   "outputs": [],
   "source": [
    "N = int(input()) # berapa banyak item yang tersedia\n",
    "storage = {} # gudang penyimpanan\n",
    "\n",
    "for i in range(N):\n",
    "  item, stock = input().split()\n",
    "  storage[item] = int(stock) # item sbg key dan stock sbg value\n",
    "\n",
    "Charlie_cart = int(input())\n",
    "c_cart = []\n",
    "\n",
    "for j in range(Charlie_cart):\n",
    "  item_c, stock_c = input().split()\n",
    "  c_cart.append(item_c) # menambah barang ke keranjang charlie\n",
    "  storage[item_c] -= int(stock_c) # mengurangi stock dengan yg ada di keranjang charlie\n",
    "\n",
    "print(\"CHARLIE\")\n",
    "print(\" \".join(c_cart))\n",
    "print(\"STORAGE\")\n",
    "\n",
    "for item, stock in storage.items():\n",
    "  print(item, stock)"
   ]
  },
  {
   "cell_type": "markdown",
   "id": "21e4d290",
   "metadata": {},
   "source": [
    "Nomer 9"
   ]
  },
  {
   "cell_type": "code",
   "execution_count": null,
   "id": "c994d134",
   "metadata": {},
   "outputs": [],
   "source": [
    "N, M = input().split()\n",
    "pola = [\"I\", \"U\"]\n",
    "N = int(N)\n",
    "\n",
    "if M == \"Aku\":\n",
    "  for i in range(0, N+1):\n",
    "    for j in range(i):\n",
    "      print(pola[(i + j + 1) % 2], end=\"\")\n",
    "    print()\n",
    "elif M == \"Kamu\":\n",
    "  for i in range(0, N+1):\n",
    "    print(\" \" * (N - i), end=\"\")\n",
    "    for j in range(i):\n",
    "      print(pola[(j + 1) % 2], end=\"\")\n",
    "    print()"
   ]
  },
  {
   "cell_type": "markdown",
   "id": "e38540d6",
   "metadata": {},
   "source": [
    "Nomer 2"
   ]
  },
  {
   "cell_type": "code",
   "execution_count": null,
   "id": "66e86eac",
   "metadata": {},
   "outputs": [],
   "source": [
    "N = int(input())\n",
    "decode = \"\"\n",
    "\n",
    "for i in range(N):\n",
    "  baris_bit = int(input())\n",
    "\n",
    "  bit_1 = (baris_bit >> 24) & 0xff\n",
    "  bit_2 = (baris_bit >> 16) & 0xff\n",
    "  bit_3 = (baris_bit >> 8) & 0xff\n",
    "  bit_4 = (baris_bit) & 0xff\n",
    "\n",
    "  karakter = chr(bit_1) + chr(bit_2) + chr(bit_3) + chr(bit_4)\n",
    "  decode += karakter\n",
    "print(decode)"
   ]
  },
  {
   "cell_type": "markdown",
   "id": "8d20a05f",
   "metadata": {},
   "source": [
    "2D List"
   ]
  },
  {
   "cell_type": "code",
   "execution_count": null,
   "id": "f96e2cf0",
   "metadata": {},
   "outputs": [],
   "source": []
  }
 ],
 "metadata": {
  "kernelspec": {
   "display_name": "base",
   "language": "python",
   "name": "python3"
  },
  "language_info": {
   "codemirror_mode": {
    "name": "ipython",
    "version": 3
   },
   "file_extension": ".py",
   "mimetype": "text/x-python",
   "name": "python",
   "nbconvert_exporter": "python",
   "pygments_lexer": "ipython3",
   "version": "3.13.5"
  }
 },
 "nbformat": 4,
 "nbformat_minor": 5
}
